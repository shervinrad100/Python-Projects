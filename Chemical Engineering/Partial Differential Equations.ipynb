{
 "metadata": {
  "language_info": {
   "codemirror_mode": {
    "name": "ipython",
    "version": 3
   },
   "file_extension": ".py",
   "mimetype": "text/x-python",
   "name": "python",
   "nbconvert_exporter": "python",
   "pygments_lexer": "ipython3",
   "version": "3.7.4"
  },
  "orig_nbformat": 2,
  "kernelspec": {
   "name": "python374jvsc74a57bd01a9a2e7028c8e59bf8b96e213f3977d943b245f260c5b12a3347f4de2b760507",
   "display_name": "Python 3.7.4 64-bit ('Basics': conda)"
  },
  "metadata": {
   "interpreter": {
    "hash": "1a9a2e7028c8e59bf8b96e213f3977d943b245f260c5b12a3347f4de2b760507"
   }
  }
 },
 "nbformat": 4,
 "nbformat_minor": 2,
 "cells": [
  {
   "source": [
    "# Laplace Equation\n",
    "$$ u_{xx} + u_{yy} = 0 $$\n",
    "In the rectangle $0<x<a$, $0<y<b$ with the boundary conditions:\n",
    "- $x = 0, \\ \\frac{\\partial u }{\\partial x}=0 $\n",
    "- $x = a, \\ \\frac{\\partial u}{\\partial x} = 0 $\n",
    "- $y = 0, \\ u = 0 $\n",
    "- $y = b, \\ u = f(x) $\n",
    "\n",
    "find $u(x,y)$"
   ],
   "cell_type": "markdown",
   "metadata": {}
  },
  {
   "cell_type": "code",
   "execution_count": null,
   "metadata": {},
   "outputs": [],
   "source": []
  },
  {
   "source": [
    "# Heat Equation\n",
    "\n",
    "Consider a one dimensional rod subject to an initial temperature. One end of the rod is kept at constant temperature which causes a heat transfer throughout the rod given the initial temperature. The heat equation describes the situation mathematically as:\n",
    "$$ u_t = ku_{xx} $$\n",
    "\n",
    "For $0 < x < L, \\ 0 < t < \\infty$ with the boundary conditions:\n",
    "- $t = 0, \\ u(x,0)=f(x) $\n",
    "- $x=0, \\ \\frac{\\partial u}{\\partial x}(0,t) = 0 $\n",
    "- $x=L, \\ \\frac{\\partial u}{\\partial x}(L,t) = 0 $"
   ],
   "cell_type": "markdown",
   "metadata": {}
  },
  {
   "cell_type": "code",
   "execution_count": null,
   "metadata": {},
   "outputs": [],
   "source": []
  },
  {
   "source": [
    "# Wave Equation\n",
    "This equation describes the elastic oscillations of a bar of length $L$, where $y(x,t)$ represents the displacement of the point $x$ in the bar at time $t$.\n",
    "$$ y_{tt} = a^2 y_{xx} $$\n",
    "\n",
    "For $0<x<L, \\ 0<t<\\infty $ with the boundary conditions:\n",
    "- $t= 0, \\ y(x,0) = y_t(x,0) = 0$\n",
    "- $x=0, \\ y(0,t) =0 $\n",
    "- $x=L, \\ y_x(L,t)= \\frac{F}{E} $\n",
    "Where $a$, $F$ and $E$ are positive constants. Solve for the displacement of the end of the bar at $y(L,t)$ as a function of time. "
   ],
   "cell_type": "markdown",
   "metadata": {}
  },
  {
   "cell_type": "code",
   "execution_count": null,
   "metadata": {},
   "outputs": [],
   "source": []
  }
 ]
}