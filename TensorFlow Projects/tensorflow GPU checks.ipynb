{
 "cells": [
  {
   "cell_type": "markdown",
   "metadata": {},
   "source": [
    "this script is written for tf v2.1.0 python 3.7 (tensorflow certification uses tf v2.7.0 on python 3.8)\n",
    "\n",
    "**Compatibility matrix**\n",
    "\n",
    "|Version\t| Python version\t| Compiler\t| Build tools\t| cuDNN\t| CUDA|\n",
    "|-----------|-------------------|-----------|---------------|-------|-----|\n",
    "|tensorflow_gpu-2.1.0\t|3.5-3.7\t|MSVC 2019\t|Bazel 0.27.1-0.29.1\t|7.6\t|10.1|\n",
    "|tensorflow_gpu-2.7.0\t|3.7-3.9\t|MSVC 2019\t|Bazel 3.7.2\t|8.1\t|11.2|\n",
    "\n",
    "\n",
    "\n",
    "\n",
    "**notes**\n",
    "1. refer to https://docs.nvidia.com/deeplearning/cudnn/install-guide/index.html for global CUDA installation guide\n",
    "2. I have not added `CUDA_PATH` to sys variables as there was already `CUDA_PATH_V11_2` set to the same dir - `C:\\Program Files\\NVIDIA GPU Computing Toolkit\\CUDA\\v11.2`\n",
    "3. when installing the cuda toolkit, if you get an error regarding nvidia frameview SDK, just uninstall it via control panel. This is just a FPS counter and a tool that monitors your\n",
    "GPU usage. Uninstalling this would not affect anything other than GeForce experience which uses this tool. "
   ]
  },
  {
   "cell_type": "code",
   "execution_count": 1,
   "metadata": {},
   "outputs": [],
   "source": [
    "import tensorflow as tf"
   ]
  },
  {
   "cell_type": "code",
   "execution_count": 100,
   "metadata": {},
   "outputs": [
    {
     "name": "stdout",
     "output_type": "stream",
     "text": [
      "Num GPUs Available:  1\n"
     ]
    }
   ],
   "source": [
    "devices = tf.config.experimental.list_physical_devices()\n",
    "GPUs = [device for device in devices if device.device_type == \"GPU\"]\n",
    "\n",
    "if not GPUs:\n",
    "    print(\"No GPU found\")\n",
    "else:\n",
    "    print(\"Num GPUs Available: \", len(GPUs))\n",
    "    "
   ]
  },
  {
   "cell_type": "code",
   "execution_count": 62,
   "metadata": {},
   "outputs": [],
   "source": [
    "from tensorflow.python.client import device_lib\n",
    "local_devices = device_lib.list_local_devices()\n"
   ]
  },
  {
   "cell_type": "code",
   "execution_count": 95,
   "metadata": {},
   "outputs": [
    {
     "name": "stdout",
     "output_type": "stream",
     "text": [
      "CPU:  \n",
      "GPU: NVIDIA GeForce RTX 2070\n"
     ]
    }
   ],
   "source": [
    "for device, name in zip(local_devices, [device_desc[7:] if device_desc.strip()[:4] == \"name\" else \" \" for device_desc in local_devices[1].physical_device_desc.split(\",\")]):\n",
    "    print(\"{}:\".format(device.device_type),name)"
   ]
  }
 ],
 "metadata": {
  "interpreter": {
   "hash": "438e298719159037a0291d42ce7fd0a6edbb9efe824650195d30c7789688c3ef"
  },
  "kernelspec": {
   "display_name": "Python 3.7.9 64-bit ('ML-Projects': conda)",
   "language": "python",
   "name": "python3"
  },
  "language_info": {
   "codemirror_mode": {
    "name": "ipython",
    "version": 3
   },
   "file_extension": ".py",
   "mimetype": "text/x-python",
   "name": "python",
   "nbconvert_exporter": "python",
   "pygments_lexer": "ipython3",
   "version": "3.6.15"
  },
  "orig_nbformat": 4
 },
 "nbformat": 4,
 "nbformat_minor": 2
}
