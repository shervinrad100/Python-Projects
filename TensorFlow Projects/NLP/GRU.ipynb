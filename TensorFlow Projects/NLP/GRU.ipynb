{
 "cells": [
  {
   "cell_type": "markdown",
   "metadata": {},
   "source": [
    "# GRU"
   ]
  },
  {
   "cell_type": "code",
   "execution_count": 1,
   "metadata": {},
   "outputs": [],
   "source": [
    "import tensorflow as tf\n",
    "import numpy as np\n",
    "import io\n",
    "import tensorflow_datasets as tfds\n",
    "import matplotlib.pyplot as plt\n",
    "from tensorflow.keras.preprocessing.text import Tokenizer\n",
    "from tensorflow.keras.preprocessing.sequence import pad_sequences"
   ]
  },
  {
   "cell_type": "code",
   "execution_count": 2,
   "metadata": {},
   "outputs": [],
   "source": [
    "imdb, info = tfds.load(\"imdb_reviews\", with_info=True, as_supervised=True, shuffle_files=True)"
   ]
  },
  {
   "cell_type": "code",
   "execution_count": 3,
   "metadata": {},
   "outputs": [],
   "source": [
    "train_data, test_data = imdb[\"train\"], imdb[\"test\"]"
   ]
  },
  {
   "cell_type": "code",
   "execution_count": 4,
   "metadata": {},
   "outputs": [],
   "source": [
    "training_sentences, training_labels = [], []\n",
    "testing_sentences, testing_labels = [], []\n",
    "\n",
    "for string, label in train_data:\n",
    "    training_sentences.append(str(string.numpy()))\n",
    "    training_labels.append(str(label.numpy()))\n",
    "\n",
    "for string, label in test_data:\n",
    "    testing_sentences.append(str(string.numpy()))\n",
    "    testing_labels.append(str(label.numpy()))\n",
    "\n",
    "training_labels = np.array(training_labels).astype(\"int\")\n",
    "testing_labels = np.array(testing_labels).astype(\"int\")"
   ]
  },
  {
   "cell_type": "code",
   "execution_count": 5,
   "metadata": {},
   "outputs": [],
   "source": [
    "vocab_size = 10000\n",
    "embedding_dim = 16 \n",
    "max_length = 120\n",
    "trunc_type = 'post'\n",
    "oov_tok = \"<OOV>\"\n",
    "\n",
    "tokenizer = Tokenizer(num_words=vocab_size, oov_token=oov_tok)\n",
    "tokenizer.fit_on_texts(training_sentences)\n",
    "word_index = tokenizer.word_index\n",
    "sequences = tokenizer.texts_to_sequences(training_sentences)\n",
    "padded = pad_sequences(sequences, maxlen=max_length, truncating=trunc_type)\n",
    "\n",
    "testing_sequences = tokenizer.texts_to_sequences(testing_sentences)\n",
    "testing_padded = pad_sequences(testing_sequences, maxlen=max_length)\n"
   ]
  },
  {
   "cell_type": "code",
   "execution_count": 6,
   "metadata": {},
   "outputs": [
    {
     "name": "stdout",
     "output_type": "stream",
     "text": [
      "b'the main complaint with this film is the fact that i can not tell who is who no racism intended but these <OOV> look all the same i can tell somewhat of the story but heck thats about as far as it goes the peoples identities are not a mystery if they were a mystery i would care about them instead i wasn 't them off the screen <OOV> br br tons of wide shots and silent <OOV> faces <OOV> this movie heck is it boring not only do i not know these people but they are just sitting there br br the production is typical chinese john woo terrible video with <OOV> scenes this looks only slightly better than\n",
      "b'The main complaint with this film is the fact that I CAN NOT tell who is who. No racism intended, but these Asians look all the same! I can tell somewhat of the story, but heck thats about as far as it goes. The peoples identities are not a mystery, if they were a mystery I would care about them. Instead I wasn\\'t them off the screen ASAP.<br /><br />Tons of wide shots and silent emotionless faces occupy this movie. Heck is it boring, not only do I not know these people, but they are just sitting there.<br /><br />The production is typical Chinese John Woo, terrible video with blotched scenes. This looks only slightly better than Andy Lau\\'s \"Fulltime Killer\" (Which was a great movie.) You would think with a decent budget they could at least make it look like 90s Hollywood. I didn\\'t know the Chinese had these art-house beatniks.'\n"
     ]
    }
   ],
   "source": [
    "reverse_word_index = dict([(value, key) for (key, value) in word_index.items()])\n",
    "\n",
    "def decode_review(text):\n",
    "    return ' '.join([reverse_word_index.get(i, '?') for i in text])\n",
    "\n",
    "print(decode_review(padded[1]))\n",
    "print(training_sentences[1])"
   ]
  },
  {
   "cell_type": "code",
   "execution_count": 7,
   "metadata": {},
   "outputs": [
    {
     "name": "stdout",
     "output_type": "stream",
     "text": [
      "Model: \"sequential\"\n",
      "_________________________________________________________________\n",
      "Layer (type)                 Output Shape              Param #   \n",
      "=================================================================\n",
      "embedding (Embedding)        (None, 120, 16)           160000    \n",
      "_________________________________________________________________\n",
      "bidirectional (Bidirectional (None, 64)                9600      \n",
      "_________________________________________________________________\n",
      "dense (Dense)                (None, 6)                 390       \n",
      "_________________________________________________________________\n",
      "dense_1 (Dense)              (None, 1)                 7         \n",
      "=================================================================\n",
      "Total params: 169,997\n",
      "Trainable params: 169,997\n",
      "Non-trainable params: 0\n",
      "_________________________________________________________________\n"
     ]
    }
   ],
   "source": [
    "model = tf.keras.Sequential([\n",
    "    tf.keras.layers.Embedding(vocab_size, embedding_dim, input_length=max_length),\n",
    "    tf.keras.layers.Bidirectional(tf.keras.layers.GRU(32)),\n",
    "    tf.keras.layers.Dense(6, activation='relu'),\n",
    "    tf.keras.layers.Dense(1, activation='sigmoid')\n",
    "])\n",
    "model.compile(loss='binary_crossentropy',optimizer='adam',metrics=['accuracy'])\n",
    "model.summary()"
   ]
  },
  {
   "cell_type": "code",
   "execution_count": 8,
   "metadata": {},
   "outputs": [
    {
     "name": "stdout",
     "output_type": "stream",
     "text": [
      "Train on 25000 samples, validate on 25000 samples\n",
      "Epoch 1/50\n",
      "25000/25000 [==============================] - 23s 928us/sample - loss: 0.5457 - accuracy: 0.6918 - val_loss: 0.3810 - val_accuracy: 0.8324\n",
      "Epoch 2/50\n",
      "25000/25000 [==============================] - 17s 667us/sample - loss: 0.3124 - accuracy: 0.8709 - val_loss: 0.3562 - val_accuracy: 0.8406\n",
      "Epoch 3/50\n",
      "25000/25000 [==============================] - 17s 665us/sample - loss: 0.2497 - accuracy: 0.9030 - val_loss: 0.3791 - val_accuracy: 0.8357\n",
      "Epoch 4/50\n",
      "25000/25000 [==============================] - 16s 642us/sample - loss: 0.2066 - accuracy: 0.9240 - val_loss: 0.4518 - val_accuracy: 0.8288\n",
      "Epoch 5/50\n",
      "25000/25000 [==============================] - 17s 675us/sample - loss: 0.1624 - accuracy: 0.9442 - val_loss: 0.4645 - val_accuracy: 0.8276\n",
      "Epoch 6/50\n",
      "25000/25000 [==============================] - 18s 706us/sample - loss: 0.1192 - accuracy: 0.9606 - val_loss: 0.5847 - val_accuracy: 0.8173\n",
      "Epoch 7/50\n",
      "25000/25000 [==============================] - 19s 754us/sample - loss: 0.0783 - accuracy: 0.9760 - val_loss: 0.5959 - val_accuracy: 0.8258\n",
      "Epoch 8/50\n",
      "25000/25000 [==============================] - 18s 706us/sample - loss: 0.0515 - accuracy: 0.9842 - val_loss: 0.7737 - val_accuracy: 0.8197\n",
      "Epoch 9/50\n",
      "25000/25000 [==============================] - 17s 667us/sample - loss: 0.0333 - accuracy: 0.9907 - val_loss: 0.8245 - val_accuracy: 0.8179\n",
      "Epoch 10/50\n",
      "25000/25000 [==============================] - 16s 655us/sample - loss: 0.0287 - accuracy: 0.9919 - val_loss: 0.9247 - val_accuracy: 0.8166\n",
      "Epoch 11/50\n",
      "25000/25000 [==============================] - 17s 693us/sample - loss: 0.0221 - accuracy: 0.9935 - val_loss: 0.9814 - val_accuracy: 0.8142\n",
      "Epoch 12/50\n",
      "25000/25000 [==============================] - 17s 689us/sample - loss: 0.0213 - accuracy: 0.9933 - val_loss: 1.0459 - val_accuracy: 0.8140\n",
      "Epoch 13/50\n",
      "25000/25000 [==============================] - 17s 669us/sample - loss: 0.0149 - accuracy: 0.9949 - val_loss: 1.0823 - val_accuracy: 0.8104\n",
      "Epoch 14/50\n",
      "25000/25000 [==============================] - 17s 682us/sample - loss: 0.0131 - accuracy: 0.9954 - val_loss: 1.1208 - val_accuracy: 0.8108\n",
      "Epoch 15/50\n",
      "25000/25000 [==============================] - 16s 638us/sample - loss: 0.0091 - accuracy: 0.9972 - val_loss: 1.1724 - val_accuracy: 0.8141\n",
      "Epoch 16/50\n",
      "25000/25000 [==============================] - 17s 695us/sample - loss: 0.0078 - accuracy: 0.9974 - val_loss: 1.2187 - val_accuracy: 0.8071\n",
      "Epoch 17/50\n",
      "25000/25000 [==============================] - 17s 680us/sample - loss: 0.0071 - accuracy: 0.9976 - val_loss: 1.3012 - val_accuracy: 0.8134\n",
      "Epoch 18/50\n",
      "25000/25000 [==============================] - 17s 681us/sample - loss: 0.0075 - accuracy: 0.9974 - val_loss: 1.3243 - val_accuracy: 0.8136\n",
      "Epoch 19/50\n",
      "25000/25000 [==============================] - 18s 706us/sample - loss: 0.0052 - accuracy: 0.9983 - val_loss: 1.4215 - val_accuracy: 0.8123\n",
      "Epoch 20/50\n",
      "25000/25000 [==============================] - 17s 669us/sample - loss: 0.0075 - accuracy: 0.9971 - val_loss: 1.4333 - val_accuracy: 0.8103\n",
      "Epoch 21/50\n",
      "25000/25000 [==============================] - 16s 659us/sample - loss: 0.0068 - accuracy: 0.9977 - val_loss: 1.5093 - val_accuracy: 0.8110\n",
      "Epoch 22/50\n",
      "25000/25000 [==============================] - 16s 632us/sample - loss: 0.0052 - accuracy: 0.9982 - val_loss: 1.4399 - val_accuracy: 0.8113\n",
      "Epoch 23/50\n",
      "25000/25000 [==============================] - 15s 617us/sample - loss: 0.0057 - accuracy: 0.9984 - val_loss: 1.4723 - val_accuracy: 0.8059\n",
      "Epoch 24/50\n",
      "25000/25000 [==============================] - 13s 516us/sample - loss: 0.0028 - accuracy: 0.9992 - val_loss: 1.5035 - val_accuracy: 0.8108\n",
      "Epoch 25/50\n",
      "25000/25000 [==============================] - 13s 516us/sample - loss: 0.0039 - accuracy: 0.9985 - val_loss: 1.5379 - val_accuracy: 0.8070\n",
      "Epoch 26/50\n",
      "25000/25000 [==============================] - 13s 514us/sample - loss: 0.0062 - accuracy: 0.9979 - val_loss: 1.5120 - val_accuracy: 0.8103\n",
      "Epoch 27/50\n",
      "25000/25000 [==============================] - 13s 511us/sample - loss: 0.0043 - accuracy: 0.9985 - val_loss: 1.5448 - val_accuracy: 0.8102\n",
      "Epoch 28/50\n",
      "25000/25000 [==============================] - 13s 504us/sample - loss: 0.0042 - accuracy: 0.9988 - val_loss: 1.5677 - val_accuracy: 0.8111\n",
      "Epoch 29/50\n",
      "25000/25000 [==============================] - 13s 511us/sample - loss: 0.0025 - accuracy: 0.9990 - val_loss: 1.5437 - val_accuracy: 0.8096\n",
      "Epoch 30/50\n",
      "25000/25000 [==============================] - 15s 592us/sample - loss: 0.0035 - accuracy: 0.9989 - val_loss: 1.6336 - val_accuracy: 0.8054\n",
      "Epoch 31/50\n",
      "25000/25000 [==============================] - 15s 601us/sample - loss: 0.0027 - accuracy: 0.9992 - val_loss: 1.6067 - val_accuracy: 0.8127\n",
      "Epoch 32/50\n",
      "25000/25000 [==============================] - 15s 593us/sample - loss: 3.7138e-04 - accuracy: 0.9999 - val_loss: 1.6547 - val_accuracy: 0.8131\n",
      "Epoch 33/50\n",
      "25000/25000 [==============================] - 15s 592us/sample - loss: 4.0741e-05 - accuracy: 1.0000 - val_loss: 1.7086 - val_accuracy: 0.8143\n",
      "Epoch 34/50\n",
      "25000/25000 [==============================] - 14s 541us/sample - loss: 2.2371e-05 - accuracy: 1.0000 - val_loss: 1.7489 - val_accuracy: 0.8144\n",
      "Epoch 35/50\n",
      "25000/25000 [==============================] - 13s 515us/sample - loss: 1.5068e-05 - accuracy: 1.0000 - val_loss: 1.7941 - val_accuracy: 0.8149\n",
      "Epoch 36/50\n",
      "25000/25000 [==============================] - 13s 513us/sample - loss: 1.0384e-05 - accuracy: 1.0000 - val_loss: 1.8403 - val_accuracy: 0.8150\n",
      "Epoch 37/50\n",
      "25000/25000 [==============================] - 13s 518us/sample - loss: 7.1831e-06 - accuracy: 1.0000 - val_loss: 1.8892 - val_accuracy: 0.8146\n",
      "Epoch 38/50\n",
      "25000/25000 [==============================] - 13s 516us/sample - loss: 4.9432e-06 - accuracy: 1.0000 - val_loss: 1.9383 - val_accuracy: 0.8144\n",
      "Epoch 39/50\n",
      "25000/25000 [==============================] - 13s 521us/sample - loss: 3.3708e-06 - accuracy: 1.0000 - val_loss: 1.9930 - val_accuracy: 0.8144\n",
      "Epoch 40/50\n",
      "25000/25000 [==============================] - 13s 516us/sample - loss: 2.2754e-06 - accuracy: 1.0000 - val_loss: 2.0511 - val_accuracy: 0.8145\n",
      "Epoch 41/50\n",
      "25000/25000 [==============================] - 13s 515us/sample - loss: 1.5297e-06 - accuracy: 1.0000 - val_loss: 2.1094 - val_accuracy: 0.8144\n",
      "Epoch 42/50\n",
      "25000/25000 [==============================] - 13s 517us/sample - loss: 1.0189e-06 - accuracy: 1.0000 - val_loss: 2.1644 - val_accuracy: 0.8140\n",
      "Epoch 43/50\n",
      "25000/25000 [==============================] - 13s 519us/sample - loss: 6.7463e-07 - accuracy: 1.0000 - val_loss: 2.2276 - val_accuracy: 0.8140\n",
      "Epoch 44/50\n",
      "25000/25000 [==============================] - 13s 521us/sample - loss: 4.4829e-07 - accuracy: 1.0000 - val_loss: 2.2914 - val_accuracy: 0.8142\n",
      "Epoch 45/50\n",
      "25000/25000 [==============================] - 13s 520us/sample - loss: 2.9644e-07 - accuracy: 1.0000 - val_loss: 2.3541 - val_accuracy: 0.8141\n",
      "Epoch 46/50\n",
      "25000/25000 [==============================] - 13s 515us/sample - loss: 1.9713e-07 - accuracy: 1.0000 - val_loss: 2.4123 - val_accuracy: 0.8134\n",
      "Epoch 47/50\n",
      "25000/25000 [==============================] - 13s 520us/sample - loss: 1.3117e-07 - accuracy: 1.0000 - val_loss: 2.4804 - val_accuracy: 0.8140\n",
      "Epoch 48/50\n",
      "25000/25000 [==============================] - 13s 522us/sample - loss: 8.7930e-08 - accuracy: 1.0000 - val_loss: 2.5426 - val_accuracy: 0.8140\n",
      "Epoch 49/50\n",
      "25000/25000 [==============================] - 13s 524us/sample - loss: 5.8992e-08 - accuracy: 1.0000 - val_loss: 2.6044 - val_accuracy: 0.8140\n",
      "Epoch 50/50\n",
      "25000/25000 [==============================] - 13s 519us/sample - loss: 3.9986e-08 - accuracy: 1.0000 - val_loss: 2.6641 - val_accuracy: 0.8137\n"
     ]
    }
   ],
   "source": [
    "num_epochs = 50\n",
    "history = model.fit(padded, training_labels, epochs=num_epochs, validation_data=(testing_padded, testing_labels))"
   ]
  },
  {
   "cell_type": "code",
   "execution_count": 9,
   "metadata": {},
   "outputs": [
    {
     "data": {
      "text/plain": [
       "<matplotlib.legend.Legend at 0x1f4595c4eb8>"
      ]
     },
     "execution_count": 9,
     "metadata": {},
     "output_type": "execute_result"
    },
    {
     "data": {
      "image/png": "[encoded data removed]",
      "text/plain": [
       "<Figure size 432x288 with 1 Axes>"
      ]
     },
     "metadata": {
      "needs_background": "light"
     },
     "output_type": "display_data"
    },
    {
     "data": {
      "image/png": "[encoded data removed]",
      "text/plain": [
       "<Figure size 432x288 with 1 Axes>"
      ]
     },
     "metadata": {
      "needs_background": "light"
     },
     "output_type": "display_data"
    }
   ],
   "source": [
    "plt.figure()\n",
    "plt.plot(history.history[\"accuracy\"])\n",
    "plt.plot(history.history[\"val_accuracy\"])\n",
    "plt.xlabel(\"Epochs\")\n",
    "plt.ylabel(\"accuracy\")\n",
    "plt.legend([\"accuracy\", 'val_accuracy'])\n",
    "\n",
    "plt.figure()\n",
    "plt.plot(history.history[\"loss\"])\n",
    "plt.plot(history.history[\"val_loss\"])\n",
    "plt.xlabel(\"Epochs\")\n",
    "plt.ylabel(\"loss\")\n",
    "plt.legend([\"loss\", 'val_loss'])"
   ]
  }
 ],
 "metadata": {
  "interpreter": {
   "hash": "c8e80215268ec93bad29db10ac5e8e49666caf75fd3e119d4dc5fbb12a6f43cf"
  },
  "kernelspec": {
   "display_name": "Python 3.7.3 64-bit ('base': conda)",
   "language": "python",
   "name": "python3"
  },
  "language_info": {
   "codemirror_mode": {
    "name": "ipython",
    "version": 3
   },
   "file_extension": ".py",
   "mimetype": "text/x-python",
   "name": "python",
   "nbconvert_exporter": "python",
   "pygments_lexer": "ipython3",
   "version": "3.6.15"
  },
  "orig_nbformat": 4
 },
 "nbformat": 4,
 "nbformat_minor": 2
}
