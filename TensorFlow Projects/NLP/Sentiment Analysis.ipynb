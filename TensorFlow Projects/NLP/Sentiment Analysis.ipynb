{
 "cells": [
  {
   "cell_type": "code",
   "execution_count": 1,
   "metadata": {},
   "outputs": [],
   "source": [
    "import tensorflow as tf\n",
    "import numpy as np\n",
    "import io\n",
    "import tensorflow_datasets as tfds\n",
    "import matplotlib.pyplot as plt\n",
    "pad_sequences = tf.keras.preprocessing.sequence.pad_sequences\n",
    "Tokenizer = tf.keras.preprocessing.text.Tokenizer"
   ]
  },
  {
   "cell_type": "code",
   "execution_count": 5,
   "metadata": {},
   "outputs": [],
   "source": [
    "# initialise sentences \n",
    "sentences = [\"I love my dog\", \"I LOVE MY CAT!\", \"You love my dog\", \"Do you think my dog is amazing?\"]"
   ]
  },
  {
   "cell_type": "markdown",
   "metadata": {},
   "source": [
    "you define the number of relevant words in the string sequence that are relevant. Then you pass the train data into your tokenizer and you can check what tokens are given to your data by using the `word_index` method. The module is designed to lemmatise the words and ignores punctuation and capitalisation. "
   ]
  },
  {
   "cell_type": "markdown",
   "metadata": {},
   "source": [
    "`num_words` takes the top n words and creates a vocab out of those. the rest would be out of vocab words. "
   ]
  },
  {
   "cell_type": "code",
   "execution_count": 6,
   "metadata": {},
   "outputs": [
    {
     "data": {
      "text/plain": [
       "{'my': 1,\n",
       " 'love': 2,\n",
       " 'dog': 3,\n",
       " 'i': 4,\n",
       " 'you': 5,\n",
       " 'cat': 6,\n",
       " 'do': 7,\n",
       " 'think': 8,\n",
       " 'is': 9,\n",
       " 'amazing': 10}"
      ]
     },
     "execution_count": 6,
     "metadata": {},
     "output_type": "execute_result"
    }
   ],
   "source": [
    "tokenizer = Tokenizer(num_words = 100)\n",
    "tokenizer.fit_on_texts(sentences)\n",
    "word_index = tokenizer.word_index\n",
    "word_index"
   ]
  },
  {
   "cell_type": "markdown",
   "metadata": {},
   "source": [
    "You can also see that applying these tokens to your sentences converts them into an array of integers ready to be processed. You can see that each sequence has different number of words in them and so different length arrays. "
   ]
  },
  {
   "cell_type": "code",
   "execution_count": 7,
   "metadata": {},
   "outputs": [
    {
     "data": {
      "text/plain": [
       "[[4, 2, 1, 3], [4, 2, 1, 6], [5, 2, 1, 3], [7, 5, 8, 1, 3, 9, 10]]"
      ]
     },
     "execution_count": 7,
     "metadata": {},
     "output_type": "execute_result"
    }
   ],
   "source": [
    "sequences = tokenizer.texts_to_sequences(sentences)\n",
    "sequences"
   ]
  },
  {
   "cell_type": "markdown",
   "metadata": {},
   "source": [
    "Now what if your tokeniser has not assigned a value to new words that it sees in its test data?"
   ]
  },
  {
   "cell_type": "code",
   "execution_count": 8,
   "metadata": {},
   "outputs": [
    {
     "data": {
      "text/plain": [
       "[[4, 2, 1, 3], [1, 3, 1]]"
      ]
     },
     "execution_count": 8,
     "metadata": {},
     "output_type": "execute_result"
    }
   ],
   "source": [
    "test_data = [\"i really love my dog\", \"my dog loves my shoes\"]\n",
    "test_seq = tokenizer.texts_to_sequences(test_data)\n",
    "test_seq"
   ]
  },
  {
   "cell_type": "markdown",
   "metadata": {},
   "source": [
    "One way to tackle this is by creating a token for Out Of Vocabulary words and assigning that to any new word that you see. Now our sequences are the same length as the actual sentences even though we have still lost some meaning."
   ]
  },
  {
   "cell_type": "code",
   "execution_count": 9,
   "metadata": {},
   "outputs": [
    {
     "data": {
      "text/plain": [
       "{'<OOV>': 1,\n",
       " 'my': 2,\n",
       " 'love': 3,\n",
       " 'dog': 4,\n",
       " 'i': 5,\n",
       " 'you': 6,\n",
       " 'cat': 7,\n",
       " 'do': 8,\n",
       " 'think': 9,\n",
       " 'is': 10,\n",
       " 'amazing': 11}"
      ]
     },
     "execution_count": 9,
     "metadata": {},
     "output_type": "execute_result"
    }
   ],
   "source": [
    "tokenizer_oov = Tokenizer(num_words=100, oov_token=\"<OOV>\")\n",
    "tokenizer_oov.fit_on_texts(sentences)\n",
    "word_index = tokenizer_oov.word_index\n",
    "word_index"
   ]
  },
  {
   "cell_type": "code",
   "execution_count": 10,
   "metadata": {},
   "outputs": [
    {
     "data": {
      "text/plain": [
       "[[5, 1, 3, 2, 4], [2, 4, 1, 2, 1]]"
      ]
     },
     "execution_count": 10,
     "metadata": {},
     "output_type": "execute_result"
    }
   ],
   "source": [
    "test_seq = tokenizer_oov.texts_to_sequences(test_data)\n",
    "test_seq"
   ]
  },
  {
   "cell_type": "markdown",
   "metadata": {},
   "source": [
    "Now that we are getting close to building the neural network and processing matrices that we have created we need to think about what if your sentences are not the same length? One method is using a *\"ragged tensor\"* which we will not look at. Another method is padding."
   ]
  },
  {
   "cell_type": "code",
   "execution_count": 12,
   "metadata": {},
   "outputs": [
    {
     "data": {
      "text/plain": [
       "array([[ 0,  0,  0,  4,  2,  1,  3],\n",
       "       [ 0,  0,  0,  4,  2,  1,  6],\n",
       "       [ 0,  0,  0,  5,  2,  1,  3],\n",
       "       [ 7,  5,  8,  1,  3,  9, 10]])"
      ]
     },
     "execution_count": 12,
     "metadata": {},
     "output_type": "execute_result"
    }
   ],
   "source": [
    "# use kwarg \n",
    "#   padding=\"post\" to pad on the left\n",
    "#   maxlen=# to pad to a specific length\n",
    "# if maxlen is smaller than longest sentences use truncating=\"post\"/\"pre\" to define cutoffs\n",
    "padded_sequences = pad_sequences(sequences) \n",
    "padded_sequences"
   ]
  },
  {
   "cell_type": "markdown",
   "metadata": {},
   "source": [
    "# Sarcastic news titles\n",
    "\n",
    "Im gonna use the kaggle API to download the dataset as JSON. Train our data and test... the usual"
   ]
  },
  {
   "cell_type": "code",
   "execution_count": 2,
   "metadata": {},
   "outputs": [],
   "source": [
    "import json\n",
    "from kaggle.api.kaggle_api_extended import KaggleApi\n",
    "api = KaggleApi()\n",
    "api.authenticate()"
   ]
  },
  {
   "cell_type": "code",
   "execution_count": 15,
   "metadata": {},
   "outputs": [],
   "source": [
    "# copied from kaggle the API command to download the dataset\n",
    "# kaggle datasets download -d rmisra/news-headlines-dataset-for-sarcasm-detection\n",
    "\n",
    "# Download all files of a dataset\n",
    "# Signature: dataset_download_files(dataset, path=None, force=False, quiet=True, unzip=False)\n",
    "\n",
    "#api.dataset_download_files(\"rmisra/news-headlines-dataset-for-sarcasm-detection\")"
   ]
  },
  {
   "cell_type": "code",
   "execution_count": 13,
   "metadata": {},
   "outputs": [],
   "source": [
    "with open(\"data/Sarcasm_Headlines_Dataset.json\",\"r\") as file:\n",
    "    raw = file.readlines()\n",
    "    data = {\"root\":[]}\n",
    "    for line in raw:\n",
    "        data[\"root\"].append(json.loads(line))\n",
    "\n",
    "sentences = [data[\"root\"][i][\"headline\"] for i in range(len(data[\"root\"]))]\n",
    "labels = [data[\"root\"][i][\"is_sarcastic\"] for i in range(len(data[\"root\"]))]"
   ]
  },
  {
   "cell_type": "code",
   "execution_count": 16,
   "metadata": {},
   "outputs": [],
   "source": [
    "training_size = 20000\n",
    "\n",
    "train_sentences = sentences[:training_size]\n",
    "train_labels = labels[:training_size]\n",
    "\n",
    "test_sentences = sentences[training_size:]\n",
    "test_labels = labels[training_size:]"
   ]
  },
  {
   "cell_type": "code",
   "execution_count": 17,
   "metadata": {},
   "outputs": [],
   "source": [
    "vocab_size = 10000\n",
    "tokenizer = Tokenizer(num_words=vocab_size, oov_token=\"<OOV>\")\n",
    "tokenizer.fit_on_texts(train_sentences)\n",
    "\n",
    "train_word_index = tokenizer.word_index\n",
    "\n",
    "train_sequences = tokenizer.texts_to_sequences(train_sentences)\n",
    "train_padded = pad_sequences(train_sequences, padding=\"post\")\n",
    "\n",
    "test_sequences = tokenizer.texts_to_sequences(test_sentences)\n",
    "test_padded = pad_sequences(test_sequences, padding=\"post\")"
   ]
  },
  {
   "cell_type": "code",
   "execution_count": 19,
   "metadata": {},
   "outputs": [],
   "source": [
    "# Need this block to get it to work with TensorFlow 2.x\n",
    "train_padded = np.array(train_padded).astype(\"int\")\n",
    "train_labels = np.array(train_labels).astype(\"int\")\n",
    "test_padded = np.array(test_padded).astype(\"int\")\n",
    "test_labels = np.array(test_labels).astype(\"int\")"
   ]
  },
  {
   "cell_type": "code",
   "execution_count": 20,
   "metadata": {},
   "outputs": [
    {
     "data": {
      "text/plain": [
       "(20000, 40)"
      ]
     },
     "execution_count": 20,
     "metadata": {},
     "output_type": "execute_result"
    }
   ],
   "source": [
    "train_padded.shape\n",
    "# we have 20000 sentences, longest of which must have been 40 words long"
   ]
  },
  {
   "cell_type": "markdown",
   "metadata": {},
   "source": [
    "Now it comes to building the neural network. Sequential is a model class which carries out the model in a sequence. \n",
    "- The first item is embedding. The direction/vector representation/tone of each word will be learned epoch by epoch\n",
    "- Next you calculate the global average of these directions given their context\n",
    "- Dense is a layer of interconnected neurons and here we have used 2 layers, the first having 24 and the latter having 1 nodes. this makes the decision on what the sentiment is\n",
    "\n",
    "**Embedding** \n",
    "1. you choose a number of dimensions and assign a vector to each word. The dimensions define the sentiment that each word can have. Words are not just one dimensional that go in either a good or bad direction that's why we give it 16 dimensions. \n",
    "2. over time the training clusters similar words together according to the labels and creates the embedding.  \n",
    "3. The result of the embedding is a 2d Array of length of the sentences and a dimension. You can either flatten this or use a global average of the vectors to then feed it into the dense layers for the decision making."
   ]
  },
  {
   "cell_type": "code",
   "execution_count": 20,
   "metadata": {},
   "outputs": [],
   "source": [
    "embedding_dim = 16\n",
    "max_length = 100\n",
    "\n",
    "model = tf.keras.Sequential([\n",
    "    tf.keras.layers.Embedding(vocab_size, embedding_dim, input_length=max_length),\n",
    "    tf.keras.layers.GlobalAveragePooling1D(),\n",
    "    tf.keras.layers.Dense(24, activation=\"relu\"),\n",
    "    tf.keras.layers.Dense(1 ,activation=\"sigmoid\")\n",
    "])\n",
    "\n",
    "model.compile(loss=\"binary_crossentropy\", optimizer=\"adam\", metrics=[\"accuracy\"])"
   ]
  },
  {
   "cell_type": "code",
   "execution_count": 21,
   "metadata": {},
   "outputs": [
    {
     "name": "stdout",
     "output_type": "stream",
     "text": [
      "Epoch 1/30\n",
      "WARNING:tensorflow:Model was constructed with shape (None, 100) for input KerasTensor(type_spec=TensorSpec(shape=(None, 100), dtype=tf.float32, name='embedding_1_input'), name='embedding_1_input', description=\"created by layer 'embedding_1_input'\"), but it was called on an input with incompatible shape (32, 40).\n"
     ]
    },
    {
     "name": "stderr",
     "output_type": "stream",
     "text": [
      "WARNING:tensorflow:Model was constructed with shape (None, 100) for input KerasTensor(type_spec=TensorSpec(shape=(None, 100), dtype=tf.float32, name='embedding_1_input'), name='embedding_1_input', description=\"created by layer 'embedding_1_input'\"), but it was called on an input with incompatible shape (32, 40).\n"
     ]
    },
    {
     "name": "stdout",
     "output_type": "stream",
     "text": [
      "WARNING:tensorflow:Model was constructed with shape (None, 100) for input KerasTensor(type_spec=TensorSpec(shape=(None, 100), dtype=tf.float32, name='embedding_1_input'), name='embedding_1_input', description=\"created by layer 'embedding_1_input'\"), but it was called on an input with incompatible shape (32, 40).\n"
     ]
    },
    {
     "name": "stderr",
     "output_type": "stream",
     "text": [
      "WARNING:tensorflow:Model was constructed with shape (None, 100) for input KerasTensor(type_spec=TensorSpec(shape=(None, 100), dtype=tf.float32, name='embedding_1_input'), name='embedding_1_input', description=\"created by layer 'embedding_1_input'\"), but it was called on an input with incompatible shape (32, 40).\n"
     ]
    },
    {
     "name": "stdout",
     "output_type": "stream",
     "text": [
      "WARNING:tensorflow:Model was constructed with shape (None, 100) for input KerasTensor(type_spec=TensorSpec(shape=(None, 100), dtype=tf.float32, name='embedding_1_input'), name='embedding_1_input', description=\"created by layer 'embedding_1_input'\"), but it was called on an input with incompatible shape (None, 38).\n"
     ]
    },
    {
     "name": "stderr",
     "output_type": "stream",
     "text": [
      "WARNING:tensorflow:Model was constructed with shape (None, 100) for input KerasTensor(type_spec=TensorSpec(shape=(None, 100), dtype=tf.float32, name='embedding_1_input'), name='embedding_1_input', description=\"created by layer 'embedding_1_input'\"), but it was called on an input with incompatible shape (None, 38).\n"
     ]
    },
    {
     "name": "stdout",
     "output_type": "stream",
     "text": [
      "625/625 - 2s - loss: 0.6061 - accuracy: 0.6630 - val_loss: 0.4306 - val_accuracy: 0.8180\n",
      "Epoch 2/30\n",
      "625/625 - 1s - loss: 0.3393 - accuracy: 0.8641 - val_loss: 0.3480 - val_accuracy: 0.8536\n",
      "Epoch 3/30\n",
      "625/625 - 1s - loss: 0.2545 - accuracy: 0.8996 - val_loss: 0.3406 - val_accuracy: 0.8593\n",
      "Epoch 4/30\n",
      "625/625 - 1s - loss: 0.2075 - accuracy: 0.9201 - val_loss: 0.3501 - val_accuracy: 0.8542\n",
      "Epoch 5/30\n",
      "625/625 - 1s - loss: 0.1754 - accuracy: 0.9344 - val_loss: 0.3674 - val_accuracy: 0.8559\n",
      "Epoch 6/30\n",
      "625/625 - 1s - loss: 0.1497 - accuracy: 0.9448 - val_loss: 0.3949 - val_accuracy: 0.8532\n",
      "Epoch 7/30\n",
      "625/625 - 1s - loss: 0.1293 - accuracy: 0.9546 - val_loss: 0.4271 - val_accuracy: 0.8448\n",
      "Epoch 8/30\n",
      "625/625 - 1s - loss: 0.1132 - accuracy: 0.9603 - val_loss: 0.4566 - val_accuracy: 0.8463\n",
      "Epoch 9/30\n",
      "625/625 - 1s - loss: 0.0989 - accuracy: 0.9671 - val_loss: 0.4960 - val_accuracy: 0.8416\n",
      "Epoch 10/30\n",
      "625/625 - 1s - loss: 0.0870 - accuracy: 0.9718 - val_loss: 0.5422 - val_accuracy: 0.8372\n",
      "Epoch 11/30\n",
      "625/625 - 1s - loss: 0.0755 - accuracy: 0.9768 - val_loss: 0.5752 - val_accuracy: 0.8325\n",
      "Epoch 12/30\n",
      "625/625 - 1s - loss: 0.0668 - accuracy: 0.9796 - val_loss: 0.6151 - val_accuracy: 0.8332\n",
      "Epoch 13/30\n",
      "625/625 - 1s - loss: 0.0588 - accuracy: 0.9824 - val_loss: 0.6927 - val_accuracy: 0.8284\n",
      "Epoch 14/30\n",
      "625/625 - 1s - loss: 0.0521 - accuracy: 0.9844 - val_loss: 0.7157 - val_accuracy: 0.8302\n",
      "Epoch 15/30\n",
      "625/625 - 1s - loss: 0.0467 - accuracy: 0.9869 - val_loss: 0.7634 - val_accuracy: 0.8281\n",
      "Epoch 16/30\n",
      "625/625 - 1s - loss: 0.0406 - accuracy: 0.9886 - val_loss: 0.8222 - val_accuracy: 0.8259\n",
      "Epoch 17/30\n",
      "625/625 - 1s - loss: 0.0374 - accuracy: 0.9902 - val_loss: 0.8749 - val_accuracy: 0.8234\n",
      "Epoch 18/30\n",
      "625/625 - 1s - loss: 0.0317 - accuracy: 0.9915 - val_loss: 0.9060 - val_accuracy: 0.8185\n",
      "Epoch 19/30\n",
      "625/625 - 1s - loss: 0.0302 - accuracy: 0.9911 - val_loss: 0.9606 - val_accuracy: 0.8188\n",
      "Epoch 20/30\n",
      "625/625 - 1s - loss: 0.0255 - accuracy: 0.9935 - val_loss: 1.0311 - val_accuracy: 0.8164\n",
      "Epoch 21/30\n",
      "625/625 - 1s - loss: 0.0239 - accuracy: 0.9940 - val_loss: 1.0906 - val_accuracy: 0.8150\n",
      "Epoch 22/30\n",
      "625/625 - 1s - loss: 0.0213 - accuracy: 0.9941 - val_loss: 1.1406 - val_accuracy: 0.8119\n",
      "Epoch 23/30\n",
      "625/625 - 1s - loss: 0.0199 - accuracy: 0.9946 - val_loss: 1.1985 - val_accuracy: 0.8089\n",
      "Epoch 24/30\n",
      "625/625 - 1s - loss: 0.0173 - accuracy: 0.9955 - val_loss: 1.2256 - val_accuracy: 0.8056\n",
      "Epoch 25/30\n",
      "625/625 - 1s - loss: 0.0166 - accuracy: 0.9952 - val_loss: 1.3100 - val_accuracy: 0.8062\n",
      "Epoch 26/30\n",
      "625/625 - 1s - loss: 0.0139 - accuracy: 0.9965 - val_loss: 1.3823 - val_accuracy: 0.8056\n",
      "Epoch 27/30\n",
      "625/625 - 1s - loss: 0.0127 - accuracy: 0.9965 - val_loss: 1.4691 - val_accuracy: 0.8071\n",
      "Epoch 28/30\n",
      "625/625 - 1s - loss: 0.0117 - accuracy: 0.9967 - val_loss: 1.5390 - val_accuracy: 0.8031\n",
      "Epoch 29/30\n",
      "625/625 - 1s - loss: 0.0107 - accuracy: 0.9973 - val_loss: 1.5548 - val_accuracy: 0.8044\n",
      "Epoch 30/30\n",
      "625/625 - 1s - loss: 0.0116 - accuracy: 0.9962 - val_loss: 1.5984 - val_accuracy: 0.8028\n"
     ]
    }
   ],
   "source": [
    "history = model.fit(train_padded, train_labels, epochs=30, validation_data=(test_padded, test_labels), verbose=2)"
   ]
  },
  {
   "cell_type": "code",
   "execution_count": 28,
   "metadata": {},
   "outputs": [
    {
     "data": {
      "text/plain": [
       "<matplotlib.legend.Legend at 0x23b8ddde108>"
      ]
     },
     "execution_count": 28,
     "metadata": {},
     "output_type": "execute_result"
    },
    {
     "data": {
      "image/png": "[encoded data removed]",
      "text/plain": [
       "<Figure size 432x288 with 1 Axes>"
      ]
     },
     "metadata": {
      "needs_background": "light"
     },
     "output_type": "display_data"
    },
    {
     "data": {
      "image/png": "[encoded data removed]",
      "text/plain": [
       "<Figure size 432x288 with 1 Axes>"
      ]
     },
     "metadata": {
      "needs_background": "light"
     },
     "output_type": "display_data"
    }
   ],
   "source": [
    "plt.figure()\n",
    "plt.plot(history.history[\"accuracy\"])\n",
    "plt.plot(history.history[\"val_accuracy\"])\n",
    "plt.legend([\"acc\", \"val_acc\"])\n",
    "plt.figure()\n",
    "plt.plot(history.history[\"loss\"])\n",
    "plt.plot(history.history[\"val_loss\"])\n",
    "plt.legend([\"loss\", \"val_loss\"])\n"
   ]
  },
  {
   "cell_type": "code",
   "execution_count": 23,
   "metadata": {},
   "outputs": [
    {
     "data": {
      "text/plain": [
       "array([[7.6833975e-01],\n",
       "       [1.0817187e-04]], dtype=float32)"
      ]
     },
     "execution_count": 23,
     "metadata": {},
     "output_type": "execute_result"
    }
   ],
   "source": [
    "new_sentences = [\"granny starting to fear spiders in the garden might be real\", \"game of thrones season finale showing this sunday night\"]\n",
    "\n",
    "new_sequences = tokenizer.texts_to_sequences(new_sentences)\n",
    "new_pads = pad_sequences(new_sequences, maxlen=max_length, padding=\"post\", truncating=\"post\")\n",
    "\n",
    "model.predict(new_pads)"
   ]
  },
  {
   "cell_type": "markdown",
   "metadata": {},
   "source": [
    "what we see is that the model predicts the first sentence to be 80% probable to be sarcastic whereas the second sentence is very unlikely to be sarcastic. "
   ]
  },
  {
   "cell_type": "markdown",
   "metadata": {},
   "source": [
    "In the above you can see that as the training lines plateau, the validation lines begin to trend. The loss for example on the trianing set started to plateau after epoch 3 (the elbow) and the val_loss began on a linear upward trend. This means that the confidence per prediction decreased so we shall tweak the hyper_params and re-run the model. "
   ]
  },
  {
   "cell_type": "code",
   "execution_count": 29,
   "metadata": {},
   "outputs": [],
   "source": [
    "vocab_size = 1000 # was 10,000\n",
    "embedding_dim = 16 # increasing the num_dims have proven to have little difference\n",
    "max_length = 16 # was 32\n",
    "trunc_type = 'post'\n",
    "padding_type = 'post'\n",
    "oov_tok = \"<OOV>\"\n",
    "training_size = 20000"
   ]
  },
  {
   "cell_type": "code",
   "execution_count": 31,
   "metadata": {},
   "outputs": [
    {
     "name": "stdout",
     "output_type": "stream",
     "text": [
      "Epoch 1/30\n",
      "WARNING:tensorflow:Model was constructed with shape (None, 16) for input KerasTensor(type_spec=TensorSpec(shape=(None, 16), dtype=tf.float32, name='embedding_3_input'), name='embedding_3_input', description=\"created by layer 'embedding_3_input'\"), but it was called on an input with incompatible shape (32, 40).\n"
     ]
    },
    {
     "name": "stderr",
     "output_type": "stream",
     "text": [
      "WARNING:tensorflow:Model was constructed with shape (None, 16) for input KerasTensor(type_spec=TensorSpec(shape=(None, 16), dtype=tf.float32, name='embedding_3_input'), name='embedding_3_input', description=\"created by layer 'embedding_3_input'\"), but it was called on an input with incompatible shape (32, 40).\n"
     ]
    },
    {
     "name": "stdout",
     "output_type": "stream",
     "text": [
      "WARNING:tensorflow:Model was constructed with shape (None, 16) for input KerasTensor(type_spec=TensorSpec(shape=(None, 16), dtype=tf.float32, name='embedding_3_input'), name='embedding_3_input', description=\"created by layer 'embedding_3_input'\"), but it was called on an input with incompatible shape (32, 40).\n"
     ]
    },
    {
     "name": "stderr",
     "output_type": "stream",
     "text": [
      "WARNING:tensorflow:Model was constructed with shape (None, 16) for input KerasTensor(type_spec=TensorSpec(shape=(None, 16), dtype=tf.float32, name='embedding_3_input'), name='embedding_3_input', description=\"created by layer 'embedding_3_input'\"), but it was called on an input with incompatible shape (32, 40).\n"
     ]
    },
    {
     "name": "stdout",
     "output_type": "stream",
     "text": [
      "WARNING:tensorflow:Model was constructed with shape (None, 16) for input KerasTensor(type_spec=TensorSpec(shape=(None, 16), dtype=tf.float32, name='embedding_3_input'), name='embedding_3_input', description=\"created by layer 'embedding_3_input'\"), but it was called on an input with incompatible shape (None, 38).\n"
     ]
    },
    {
     "name": "stderr",
     "output_type": "stream",
     "text": [
      "WARNING:tensorflow:Model was constructed with shape (None, 16) for input KerasTensor(type_spec=TensorSpec(shape=(None, 16), dtype=tf.float32, name='embedding_3_input'), name='embedding_3_input', description=\"created by layer 'embedding_3_input'\"), but it was called on an input with incompatible shape (None, 38).\n"
     ]
    },
    {
     "name": "stdout",
     "output_type": "stream",
     "text": [
      "625/625 - 1s - loss: 0.5972 - accuracy: 0.6673 - val_loss: 0.4502 - val_accuracy: 0.7980\n",
      "Epoch 2/30\n",
      "625/625 - 1s - loss: 0.4060 - accuracy: 0.8124 - val_loss: 0.4063 - val_accuracy: 0.8120\n",
      "Epoch 3/30\n",
      "625/625 - 1s - loss: 0.3742 - accuracy: 0.8310 - val_loss: 0.4023 - val_accuracy: 0.8109\n",
      "Epoch 4/30\n",
      "625/625 - 1s - loss: 0.3629 - accuracy: 0.8356 - val_loss: 0.4042 - val_accuracy: 0.8155\n",
      "Epoch 5/30\n",
      "625/625 - 1s - loss: 0.3572 - accuracy: 0.8378 - val_loss: 0.4020 - val_accuracy: 0.8156\n",
      "Epoch 6/30\n",
      "625/625 - 1s - loss: 0.3541 - accuracy: 0.8405 - val_loss: 0.4026 - val_accuracy: 0.8128\n",
      "Epoch 7/30\n",
      "625/625 - 1s - loss: 0.3517 - accuracy: 0.8392 - val_loss: 0.4143 - val_accuracy: 0.8132\n",
      "Epoch 8/30\n",
      "625/625 - 1s - loss: 0.3502 - accuracy: 0.8396 - val_loss: 0.4061 - val_accuracy: 0.8143\n",
      "Epoch 9/30\n",
      "625/625 - 1s - loss: 0.3501 - accuracy: 0.8399 - val_loss: 0.4094 - val_accuracy: 0.8109\n",
      "Epoch 10/30\n",
      "625/625 - 1s - loss: 0.3486 - accuracy: 0.8414 - val_loss: 0.4092 - val_accuracy: 0.8126\n",
      "Epoch 11/30\n",
      "625/625 - 1s - loss: 0.3478 - accuracy: 0.8413 - val_loss: 0.4154 - val_accuracy: 0.8067\n",
      "Epoch 12/30\n",
      "625/625 - 1s - loss: 0.3473 - accuracy: 0.8431 - val_loss: 0.4103 - val_accuracy: 0.8114\n",
      "Epoch 13/30\n",
      "625/625 - 1s - loss: 0.3468 - accuracy: 0.8435 - val_loss: 0.4083 - val_accuracy: 0.8114\n",
      "Epoch 14/30\n",
      "625/625 - 1s - loss: 0.3462 - accuracy: 0.8432 - val_loss: 0.4161 - val_accuracy: 0.8110\n",
      "Epoch 15/30\n",
      "625/625 - 1s - loss: 0.3461 - accuracy: 0.8422 - val_loss: 0.4096 - val_accuracy: 0.8111\n",
      "Epoch 16/30\n",
      "625/625 - 1s - loss: 0.3447 - accuracy: 0.8447 - val_loss: 0.4105 - val_accuracy: 0.8135\n",
      "Epoch 17/30\n",
      "625/625 - 1s - loss: 0.3440 - accuracy: 0.8429 - val_loss: 0.4145 - val_accuracy: 0.8071\n",
      "Epoch 18/30\n",
      "625/625 - 1s - loss: 0.3437 - accuracy: 0.8435 - val_loss: 0.4149 - val_accuracy: 0.8134\n",
      "Epoch 19/30\n",
      "625/625 - 1s - loss: 0.3426 - accuracy: 0.8447 - val_loss: 0.4082 - val_accuracy: 0.8137\n",
      "Epoch 20/30\n",
      "625/625 - 1s - loss: 0.3417 - accuracy: 0.8433 - val_loss: 0.4104 - val_accuracy: 0.8134\n",
      "Epoch 21/30\n",
      "625/625 - 1s - loss: 0.3410 - accuracy: 0.8432 - val_loss: 0.4107 - val_accuracy: 0.8140\n",
      "Epoch 22/30\n",
      "625/625 - 1s - loss: 0.3390 - accuracy: 0.8454 - val_loss: 0.4124 - val_accuracy: 0.8131\n",
      "Epoch 23/30\n",
      "625/625 - 1s - loss: 0.3388 - accuracy: 0.8451 - val_loss: 0.4080 - val_accuracy: 0.8111\n",
      "Epoch 24/30\n",
      "625/625 - 1s - loss: 0.3365 - accuracy: 0.8469 - val_loss: 0.4123 - val_accuracy: 0.8080\n",
      "Epoch 25/30\n",
      "625/625 - 1s - loss: 0.3367 - accuracy: 0.8476 - val_loss: 0.4084 - val_accuracy: 0.8138\n",
      "Epoch 26/30\n",
      "625/625 - 1s - loss: 0.3346 - accuracy: 0.8475 - val_loss: 0.4111 - val_accuracy: 0.8117\n",
      "Epoch 27/30\n",
      "625/625 - 1s - loss: 0.3328 - accuracy: 0.8475 - val_loss: 0.4077 - val_accuracy: 0.8156\n",
      "Epoch 28/30\n",
      "625/625 - 1s - loss: 0.3312 - accuracy: 0.8501 - val_loss: 0.4216 - val_accuracy: 0.8041\n",
      "Epoch 29/30\n",
      "625/625 - 1s - loss: 0.3314 - accuracy: 0.8500 - val_loss: 0.4068 - val_accuracy: 0.8171\n",
      "Epoch 30/30\n",
      "625/625 - 1s - loss: 0.3291 - accuracy: 0.8505 - val_loss: 0.4091 - val_accuracy: 0.8164\n"
     ]
    }
   ],
   "source": [
    "train_sentences = sentences[:training_size]\n",
    "train_labels = labels[:training_size]\n",
    "\n",
    "test_sentences = sentences[training_size:]\n",
    "test_labels = labels[training_size:]\n",
    "tokenizer = Tokenizer(num_words=vocab_size, oov_token=oov_tok)\n",
    "tokenizer.fit_on_texts(train_sentences)\n",
    "\n",
    "train_word_index = tokenizer.word_index\n",
    "\n",
    "train_sequences = tokenizer.texts_to_sequences(train_sentences)\n",
    "train_padded = pad_sequences(train_sequences, padding=padding_type)\n",
    "\n",
    "test_sequences = tokenizer.texts_to_sequences(test_sentences)\n",
    "test_padded = pad_sequences(test_sequences, padding=padding_type)\n",
    "\n",
    "train_padded = np.array(train_padded).astype(\"int\")\n",
    "train_labels = np.array(train_labels).astype(\"int\")\n",
    "test_padded = np.array(test_padded).astype(\"int\")\n",
    "test_labels = np.array(test_labels).astype(\"int\")\n",
    "\n",
    "model = tf.keras.Sequential([\n",
    "    tf.keras.layers.Embedding(vocab_size, embedding_dim, input_length=max_length),\n",
    "    tf.keras.layers.GlobalAveragePooling1D(),\n",
    "    tf.keras.layers.Dense(24, activation=\"relu\"),\n",
    "    tf.keras.layers.Dense(1 ,activation=\"sigmoid\")\n",
    "])\n",
    "\n",
    "model.compile(loss=\"binary_crossentropy\", optimizer=\"adam\", metrics=[\"accuracy\"])\n",
    "history = model.fit(train_padded, train_labels, epochs=30, validation_data=(test_padded, test_labels), verbose=2)"
   ]
  },
  {
   "cell_type": "code",
   "execution_count": 32,
   "metadata": {},
   "outputs": [
    {
     "data": {
      "text/plain": [
       "<matplotlib.legend.Legend at 0x23b8f3c0e48>"
      ]
     },
     "execution_count": 32,
     "metadata": {},
     "output_type": "execute_result"
    },
    {
     "data": {
      "image/png": "[encoded data removed]",
      "text/plain": [
       "<Figure size 432x288 with 1 Axes>"
      ]
     },
     "metadata": {
      "needs_background": "light"
     },
     "output_type": "display_data"
    },
    {
     "data": {
      "image/png": "[encoded data removed]",
      "text/plain": [
       "<Figure size 432x288 with 1 Axes>"
      ]
     },
     "metadata": {
      "needs_background": "light"
     },
     "output_type": "display_data"
    }
   ],
   "source": [
    "plt.figure()\n",
    "plt.plot(history.history[\"accuracy\"])\n",
    "plt.plot(history.history[\"val_accuracy\"])\n",
    "plt.legend([\"acc\", \"val_acc\"])\n",
    "plt.figure()\n",
    "plt.plot(history.history[\"loss\"])\n",
    "plt.plot(history.history[\"val_loss\"])\n",
    "plt.legend([\"loss\", \"val_loss\"])\n"
   ]
  },
  {
   "cell_type": "markdown",
   "metadata": {},
   "source": [
    "# IMDB reviews\n"
   ]
  },
  {
   "cell_type": "code",
   "execution_count": 3,
   "metadata": {},
   "outputs": [],
   "source": [
    "imdb, info = tfds.load(\"imdb_reviews\", with_info=True, as_supervised=True, shuffle_files=True)"
   ]
  },
  {
   "cell_type": "code",
   "execution_count": 44,
   "metadata": {},
   "outputs": [],
   "source": [
    "train_data, test_data = imdb[\"train\"], imdb[\"test\"]\n",
    "# each are stored as tf.Tensor objects and the labels as 1 for a positive and 0 for a negative review"
   ]
  },
  {
   "cell_type": "code",
   "execution_count": 45,
   "metadata": {},
   "outputs": [],
   "source": [
    "training_sentences, training_labels = [], []\n",
    "testing_sentences, testing_labels = [], []\n",
    "\n",
    "for string, label in train_data:\n",
    "    training_sentences.append(str(string.numpy()))\n",
    "    training_labels.append(str(label.numpy()))\n",
    "\n",
    "for string, label in test_data:\n",
    "    testing_sentences.append(str(string.numpy()))\n",
    "    testing_labels.append(str(label.numpy()))\n",
    "\n",
    "training_labels = np.array(training_labels).astype(\"int\")\n",
    "testing_labels = np.array(testing_labels).astype(\"int\")"
   ]
  },
  {
   "cell_type": "code",
   "execution_count": 6,
   "metadata": {},
   "outputs": [],
   "source": [
    "vocab_size = 10000\n",
    "embedding_dim = 16 \n",
    "max_length = 120\n",
    "trunc_type = 'post'\n",
    "oov_tok = \"<OOV>\"\n",
    "\n",
    "tokenizer = Tokenizer(num_words=vocab_size, oov_token=oov_tok)\n",
    "tokenizer.fit_on_texts(training_sentences)\n",
    "word_index = tokenizer.word_index\n",
    "sequences = tokenizer.texts_to_sequences(training_sentences)\n",
    "padded = pad_sequences(sequences, maxlen=max_length, truncating=trunc_type)\n",
    "\n",
    "testing_sequences = tokenizer.texts_to_sequences(testing_sentences)\n",
    "testing_padded = pad_sequences(testing_sequences, maxlen=max_length)\n"
   ]
  },
  {
   "cell_type": "code",
   "execution_count": 7,
   "metadata": {},
   "outputs": [],
   "source": [
    "model = tf.keras.Sequential([\n",
    "    tf.keras.layers.Embedding(vocab_size, embedding_dim, input_length=max_length),\n",
    "    tf.keras.layers.Flatten(), # slower than global averaging but more accurate\n",
    "    tf.keras.layers.Dense(6,activation=\"relu\"),\n",
    "    tf.keras.layers.Dense(1, activation=\"sigmoid\")\n",
    "])\n",
    "\n",
    "model.compile(loss=\"binary_crossentropy\", optimizer=\"adam\", metrics=[\"accuracy\"])\n"
   ]
  },
  {
   "cell_type": "code",
   "execution_count": 8,
   "metadata": {},
   "outputs": [
    {
     "name": "stdout",
     "output_type": "stream",
     "text": [
      "Model: \"sequential\"\n",
      "_________________________________________________________________\n",
      "Layer (type)                 Output Shape              Param #   \n",
      "=================================================================\n",
      "embedding (Embedding)        (None, 120, 16)           160000    \n",
      "_________________________________________________________________\n",
      "flatten (Flatten)            (None, 1920)              0         \n",
      "_________________________________________________________________\n",
      "dense (Dense)                (None, 6)                 11526     \n",
      "_________________________________________________________________\n",
      "dense_1 (Dense)              (None, 1)                 7         \n",
      "=================================================================\n",
      "Total params: 171,533\n",
      "Trainable params: 171,533\n",
      "Non-trainable params: 0\n",
      "_________________________________________________________________\n"
     ]
    }
   ],
   "source": [
    "model.summary()"
   ]
  },
  {
   "cell_type": "code",
   "execution_count": 9,
   "metadata": {},
   "outputs": [
    {
     "name": "stdout",
     "output_type": "stream",
     "text": [
      "Epoch 1/10\n",
      "782/782 [==============================] - 3s 3ms/step - loss: 0.4888 - accuracy: 0.7479 - val_loss: 0.3443 - val_accuracy: 0.8509\n",
      "Epoch 2/10\n",
      "782/782 [==============================] - 2s 3ms/step - loss: 0.2376 - accuracy: 0.9095 - val_loss: 0.3701 - val_accuracy: 0.8389\n",
      "Epoch 3/10\n",
      "782/782 [==============================] - 2s 3ms/step - loss: 0.0896 - accuracy: 0.9769 - val_loss: 0.4514 - val_accuracy: 0.8266\n",
      "Epoch 4/10\n",
      "782/782 [==============================] - 2s 3ms/step - loss: 0.0224 - accuracy: 0.9975 - val_loss: 0.5422 - val_accuracy: 0.8244\n",
      "Epoch 5/10\n",
      "782/782 [==============================] - 3s 3ms/step - loss: 0.0065 - accuracy: 0.9994 - val_loss: 0.5953 - val_accuracy: 0.8265\n",
      "Epoch 6/10\n",
      "782/782 [==============================] - 2s 3ms/step - loss: 0.0023 - accuracy: 0.9999 - val_loss: 0.6509 - val_accuracy: 0.8240\n",
      "Epoch 7/10\n",
      "782/782 [==============================] - 3s 3ms/step - loss: 9.3938e-04 - accuracy: 1.0000 - val_loss: 0.6942 - val_accuracy: 0.8263\n",
      "Epoch 8/10\n",
      "782/782 [==============================] - 2s 3ms/step - loss: 4.6413e-04 - accuracy: 1.0000 - val_loss: 0.7331 - val_accuracy: 0.8270\n",
      "Epoch 9/10\n",
      "782/782 [==============================] - 2s 3ms/step - loss: 2.6819e-04 - accuracy: 1.0000 - val_loss: 0.7707 - val_accuracy: 0.8277\n",
      "Epoch 10/10\n",
      "782/782 [==============================] - 2s 3ms/step - loss: 1.6140e-04 - accuracy: 1.0000 - val_loss: 0.8082 - val_accuracy: 0.8271\n"
     ]
    },
    {
     "data": {
      "text/plain": [
       "<tensorflow.python.keras.callbacks.History at 0x23b06ff9648>"
      ]
     },
     "execution_count": 9,
     "metadata": {},
     "output_type": "execute_result"
    }
   ],
   "source": [
    "num_epochs = 10\n",
    "model.fit(padded, training_labels, epochs=num_epochs, validation_data=(testing_padded, testing_labels))\n",
    "# the results should be slightly overfit because the accuracy is 1 but validation loss goes up"
   ]
  },
  {
   "cell_type": "code",
   "execution_count": 10,
   "metadata": {},
   "outputs": [
    {
     "name": "stdout",
     "output_type": "stream",
     "text": [
      "(10000, 16)\n"
     ]
    }
   ],
   "source": [
    "embedding_layer = model.layers[0]\n",
    "weights = embedding_layer.get_weights()[0]\n",
    "print(weights.shape) # (vocab_size, embedding_dim)"
   ]
  },
  {
   "cell_type": "code",
   "execution_count": 11,
   "metadata": {},
   "outputs": [],
   "source": [
    "reverse_word_index = {value:key for key,value in word_index.items()}"
   ]
  },
  {
   "cell_type": "code",
   "execution_count": 12,
   "metadata": {},
   "outputs": [],
   "source": [
    "# write vectors to a metadata outfile\n",
    "out_vector = io.open(\"data/sentiment_analysis/vecs.tsv\", \"w\", encoding=\"utf-8\")\n",
    "out_metadata = io.open(\"data/sentiment_analysis/meta.tsv\", \"w\", encoding=\"utf-8\")\n",
    "\n",
    "for word_num in range(1,vocab_size):\n",
    "    word = reverse_word_index[word_num]\n",
    "    embeddings = weights[word_num]\n",
    "    out_metadata.write(word+\"\\n\")\n",
    "    out_vector.write(\"\\t\".join([str(x) for x in embeddings])+\"\\n\")\n",
    "\n",
    "out_vector.close()\n",
    "out_metadata.close()"
   ]
  },
  {
   "cell_type": "code",
   "execution_count": null,
   "metadata": {},
   "outputs": [],
   "source": [
    "# https://projector.tesorflow.org to visualise the vectors"
   ]
  },
  {
   "cell_type": "markdown",
   "metadata": {},
   "source": [
    "# Pre-tokenized dataset"
   ]
  },
  {
   "cell_type": "code",
   "execution_count": 50,
   "metadata": {},
   "outputs": [],
   "source": [
    "imdb, info = tfds.load(\"imdb_reviews/subwords8k\", with_info=True, as_supervised=True, shuffle_files=True)"
   ]
  },
  {
   "cell_type": "code",
   "execution_count": 51,
   "metadata": {},
   "outputs": [],
   "source": [
    "train_data, test_data = imdb[\"train\"], imdb[\"test\"]\n",
    "\n",
    "tokenizer = info.features[\"text\"].encoder"
   ]
  },
  {
   "cell_type": "code",
   "execution_count": 52,
   "metadata": {},
   "outputs": [
    {
     "name": "stdout",
     "output_type": "stream",
     "text": [
      "['the_', ', ', '. ', 'a_', 'and_', 'of_', 'to_', 's_', 'is_', 'br']\n"
     ]
    }
   ],
   "source": [
    "# inspect vocab\n",
    "print(tokenizer.subwords[:10])"
   ]
  },
  {
   "cell_type": "markdown",
   "metadata": {},
   "source": [
    "you can see that the encoder has punctuation in its vocab. This encoder is case sensitive and stores more properties of the order of the letters, words and sentences. "
   ]
  },
  {
   "cell_type": "code",
   "execution_count": 53,
   "metadata": {},
   "outputs": [
    {
     "name": "stdout",
     "output_type": "stream",
     "text": [
      "[6307, 2327, 4043, 2120, 2, 48, 4249, 4429, 7, 2652, 8050]\n",
      "TensorFlow, from basics to mastery\n"
     ]
    }
   ],
   "source": [
    "sample_string = \"TensorFlow, from basics to mastery\"\n",
    "\n",
    "tokenized_string = tokenizer.encode(sample_string)\n",
    "print(tokenized_string)\n",
    "\n",
    "original_string = tokenizer.decode(tokenized_string)\n",
    "print(original_string)"
   ]
  },
  {
   "cell_type": "code",
   "execution_count": 40,
   "metadata": {},
   "outputs": [
    {
     "name": "stdout",
     "output_type": "stream",
     "text": [
      "6307 --> Ten\n",
      "2327 --> sor\n",
      "4043 --> Fl\n",
      "2120 --> ow\n",
      "2 --> , \n",
      "48 --> from \n",
      "4249 --> basi\n",
      "4429 --> cs \n",
      "7 --> to \n",
      "2652 --> master\n",
      "8050 --> y\n"
     ]
    }
   ],
   "source": [
    "for tokenised_str in tokenized_string:\n",
    "    print(f\"{tokenised_str} --> {tokenizer.decode([tokenised_str])}\")"
   ]
  },
  {
   "cell_type": "markdown",
   "metadata": {},
   "source": [
    "# reclassify the IMDB dataset with preloaded tokenizer"
   ]
  },
  {
   "cell_type": "code",
   "execution_count": 54,
   "metadata": {},
   "outputs": [],
   "source": [
    "BUFFER_SIZE = 10000\n",
    "BATCH_SIZE = 64\n",
    "\n",
    "train_dataset = train_data.shuffle(BUFFER_SIZE)\n",
    "train_dataset = train_dataset.padded_batch(BATCH_SIZE, tf.compat.v1.data.get_output_shapes(train_dataset))\n",
    "test_dataset = test_data.padded_batch(BATCH_SIZE, tf.compat.v1.data.get_output_shapes(test_data))"
   ]
  },
  {
   "cell_type": "code",
   "execution_count": 56,
   "metadata": {},
   "outputs": [
    {
     "name": "stdout",
     "output_type": "stream",
     "text": [
      "Model: \"sequential_5\"\n",
      "_________________________________________________________________\n",
      "Layer (type)                 Output Shape              Param #   \n",
      "=================================================================\n",
      "embedding_5 (Embedding)      (None, None, 64)          523840    \n",
      "_________________________________________________________________\n",
      "global_average_pooling1d_4 ( (None, 64)                0         \n",
      "_________________________________________________________________\n",
      "dense_10 (Dense)             (None, 6)                 390       \n",
      "_________________________________________________________________\n",
      "dense_11 (Dense)             (None, 1)                 7         \n",
      "=================================================================\n",
      "Total params: 524,237\n",
      "Trainable params: 524,237\n",
      "Non-trainable params: 0\n",
      "_________________________________________________________________\n"
     ]
    }
   ],
   "source": [
    "embedding_dim = 64\n",
    "model = tf.keras.Sequential([\n",
    "    tf.keras.layers.Embedding(tokenizer.vocab_size, embedding_dim),\n",
    "    tf.keras.layers.GlobalAveragePooling1D(),\n",
    "    tf.keras.layers.Dense(6, activation='relu'),\n",
    "    tf.keras.layers.Dense(1, activation='sigmoid')\n",
    "])\n",
    "\n",
    "model.summary()"
   ]
  },
  {
   "cell_type": "code",
   "execution_count": 58,
   "metadata": {},
   "outputs": [
    {
     "name": "stdout",
     "output_type": "stream",
     "text": [
      "Epoch 1/10\n",
      "391/391 [==============================] - 11s 26ms/step - loss: 0.6738 - accuracy: 0.6184 - val_loss: 0.6274 - val_accuracy: 0.7500\n",
      "Epoch 2/10\n",
      "391/391 [==============================] - 11s 27ms/step - loss: 0.5218 - accuracy: 0.8146 - val_loss: 0.4460 - val_accuracy: 0.8353\n",
      "Epoch 3/10\n",
      "391/391 [==============================] - 11s 27ms/step - loss: 0.3665 - accuracy: 0.8767 - val_loss: 0.3683 - val_accuracy: 0.8561\n",
      "Epoch 4/10\n",
      "391/391 [==============================] - 10s 26ms/step - loss: 0.2971 - accuracy: 0.8968 - val_loss: 0.3268 - val_accuracy: 0.8751\n",
      "Epoch 5/10\n",
      "391/391 [==============================] - 11s 27ms/step - loss: 0.2595 - accuracy: 0.9078 - val_loss: 0.3119 - val_accuracy: 0.8789\n",
      "Epoch 6/10\n",
      "391/391 [==============================] - 10s 26ms/step - loss: 0.2331 - accuracy: 0.9166 - val_loss: 0.3098 - val_accuracy: 0.8761\n",
      "Epoch 7/10\n",
      "391/391 [==============================] - 10s 25ms/step - loss: 0.2147 - accuracy: 0.9238 - val_loss: 0.3257 - val_accuracy: 0.8652\n",
      "Epoch 8/10\n",
      "391/391 [==============================] - 10s 24ms/step - loss: 0.1977 - accuracy: 0.9302 - val_loss: 0.3109 - val_accuracy: 0.8772\n",
      "Epoch 9/10\n",
      "391/391 [==============================] - 10s 24ms/step - loss: 0.1848 - accuracy: 0.9353 - val_loss: 0.3082 - val_accuracy: 0.8822\n",
      "Epoch 10/10\n",
      "391/391 [==============================] - 10s 24ms/step - loss: 0.1734 - accuracy: 0.9399 - val_loss: 0.3125 - val_accuracy: 0.8804\n"
     ]
    }
   ],
   "source": [
    "num_epochs = 10\n",
    "\n",
    "model.compile(loss='binary_crossentropy',optimizer='adam',metrics=['accuracy'])\n",
    "\n",
    "history = model.fit(train_dataset, epochs=num_epochs, validation_data=test_dataset)"
   ]
  },
  {
   "cell_type": "code",
   "execution_count": 59,
   "metadata": {},
   "outputs": [
    {
     "data": {
      "text/plain": [
       "Text(0.5, 0, 'Epochs')"
      ]
     },
     "execution_count": 59,
     "metadata": {},
     "output_type": "execute_result"
    },
    {
     "data": {
      "image/png": "[encoded data removed]",
      "text/plain": [
       "<Figure size 432x288 with 1 Axes>"
      ]
     },
     "metadata": {
      "needs_background": "light"
     },
     "output_type": "display_data"
    },
    {
     "data": {
      "image/png": "[encoded data removed]",
      "text/plain": [
       "<Figure size 432x288 with 1 Axes>"
      ]
     },
     "metadata": {
      "needs_background": "light"
     },
     "output_type": "display_data"
    }
   ],
   "source": [
    "plt.figure()\n",
    "plt.plot(history.history[\"accuracy\"])\n",
    "plt.plot(history.history[\"val_accuracy\"])\n",
    "plt.legend([\"acc\", \"val_acc\"])\n",
    "plt.xlabel(\"Epochs\")\n",
    "plt.figure()\n",
    "plt.plot(history.history[\"loss\"])\n",
    "plt.plot(history.history[\"val_loss\"])\n",
    "plt.legend([\"loss\", \"val_loss\"])\n",
    "plt.xlabel(\"Epochs\")"
   ]
  },
  {
   "cell_type": "markdown",
   "metadata": {},
   "source": [
    "You can see that the loss is going down very slowly and that is because we are using subwords and not full words and they dont mean anything unless they come in a sequence. This is where the model is failing. The order of the subwords is not retained in the model. "
   ]
  },
  {
   "cell_type": "code",
   "execution_count": 61,
   "metadata": {},
   "outputs": [
    {
     "name": "stdout",
     "output_type": "stream",
     "text": [
      "(8185, 64)\n"
     ]
    }
   ],
   "source": [
    "embedding_layer = model.layers[0]\n",
    "weights = embedding_layer.get_weights()[0]\n",
    "print(weights.shape) # shape: (vocab_size, embedding_dim)\n",
    "\n",
    "out_v = io.open('data/tokenizer_&_basicDense/vecs.tsv', 'w', encoding='utf-8')\n",
    "out_m = io.open('data/tokenizer_&_basicDense/meta.tsv', 'w', encoding='utf-8')\n",
    "for word_num in range(1, tokenizer.vocab_size):\n",
    "  word = tokenizer.decode([word_num])\n",
    "  embeddings = weights[word_num]\n",
    "  out_m.write(word + \"\\n\")\n",
    "  out_v.write('\\t'.join([str(x) for x in embeddings]) + \"\\n\")\n",
    "out_v.close()\n",
    "out_m.close()\n"
   ]
  }
 ],
 "metadata": {
  "interpreter": {
   "hash": "438e298719159037a0291d42ce7fd0a6edbb9efe824650195d30c7789688c3ef"
  },
  "kernelspec": {
   "display_name": "Python 3.7.9 64-bit ('ML-Projects': conda)",
   "name": "python3"
  },
  "language_info": {
   "codemirror_mode": {
    "name": "ipython",
    "version": 3
   },
   "file_extension": ".py",
   "mimetype": "text/x-python",
   "name": "python",
   "nbconvert_exporter": "python",
   "pygments_lexer": "ipython3",
   "version": "3.7.9"
  },
  "orig_nbformat": 4
 },
 "nbformat": 4,
 "nbformat_minor": 2
}
